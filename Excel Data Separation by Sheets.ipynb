{
 "cells": [
  {
   "cell_type": "code",
   "execution_count": null,
   "metadata": {},
   "outputs": [],
   "source": [
    "import pandas as pd"
   ]
  },
  {
   "cell_type": "code",
   "execution_count": null,
   "metadata": {},
   "outputs": [],
   "source": [
    "df = pd.read_excel(\"mockupData.xlsx\")"
   ]
  },
  {
   "cell_type": "code",
   "execution_count": null,
   "metadata": {},
   "outputs": [],
   "source": [
    "df.info()"
   ]
  },
  {
   "cell_type": "code",
   "execution_count": null,
   "metadata": {},
   "outputs": [],
   "source": [
    "df.head(20)"
   ]
  },
  {
   "cell_type": "code",
   "execution_count": null,
   "metadata": {},
   "outputs": [],
   "source": [
    "df.tail(20)"
   ]
  },
  {
   "cell_type": "code",
   "execution_count": null,
   "metadata": {},
   "outputs": [],
   "source": [
    "df[\"Customer Class Description\"].unique()"
   ]
  },
  {
   "cell_type": "code",
   "execution_count": null,
   "metadata": {},
   "outputs": [],
   "source": [
    "df[\"Customer Class Description\"].nunique()"
   ]
  },
  {
   "cell_type": "code",
   "execution_count": null,
   "metadata": {},
   "outputs": [],
   "source": [
    "#We need to modify the \"Customer Class Description\" column to eliminate unwanted characters, eliminate too-long records,\n",
    "#and eliminate same record names with different cases"
   ]
  },
  {
   "cell_type": "code",
   "execution_count": null,
   "metadata": {},
   "outputs": [],
   "source": [
    "#First, eliminate the unwanted characters and replace them with \"_\"\n",
    "for i in df.index:\n",
    "    if \":\" or \"\\\\\" or \"?\" or \"*\" or \"[\" or \"]\" in df[\"Customer Class Description\"].iloc[i]:\n",
    "        df[\"Customer Class Description\"].iloc[i] = df[\"Customer Class Description\"].iloc[i].replace(\":\", \"_\").replace(\"\\\\\", \"_\").replace(\"/\", \"_\").replace(\"?\", \"_\").replace(\"*\", \"_\").replace(\"[\", \"_\").replace(\"]\", \"_\")"
   ]
  },
  {
   "cell_type": "code",
   "execution_count": null,
   "metadata": {},
   "outputs": [],
   "source": [
    "#Second, eliminate the records which are longer than 31 characters:\n",
    "for i in df.index:\n",
    "    if len(df[\"Customer Class Description\"].iloc[i]) > 31:\n",
    "        df[\"Customer Class Description\"].iloc[i] = df[\"Customer Class Description\"].iloc[i][:30]"
   ]
  },
  {
   "cell_type": "code",
   "execution_count": null,
   "metadata": {},
   "outputs": [],
   "source": [
    "#Third (Last), make the repetitive name with different cases become on case:\n",
    "for i in df.index:\n",
    "    df[\"Customer Class Description\"].iloc[i] = df[\"Customer Class Description\"].iloc[i].upper()"
   ]
  },
  {
   "cell_type": "code",
   "execution_count": null,
   "metadata": {},
   "outputs": [],
   "source": [
    "df[\"Customer Class Description\"].nunique()"
   ]
  },
  {
   "cell_type": "code",
   "execution_count": null,
   "metadata": {},
   "outputs": [],
   "source": [
    "df[\"Customer Class Description\"].unique()"
   ]
  },
  {
   "cell_type": "code",
   "execution_count": null,
   "metadata": {},
   "outputs": [],
   "source": [
    "#Ready to save to excel:\n",
    "\n",
    "writer = pd.ExcelWriter(\"Sorted_by_Sheets.xlsx\")\n",
    "\n",
    "for i in df[\"Customer Class Description\"].unique()\n",
    "    df[df[\"Customer Class Description\"].str.contains(i)].to_excel(writer, sheet_name = i, index = False)\n",
    "\n",
    "writer.save()"
   ]
  }
 ],
 "metadata": {
  "kernelspec": {
   "display_name": "Python 3",
   "language": "python",
   "name": "python3"
  },
  "language_info": {
   "codemirror_mode": {
    "name": "ipython",
    "version": 3
   },
   "file_extension": ".py",
   "mimetype": "text/x-python",
   "name": "python",
   "nbconvert_exporter": "python",
   "pygments_lexer": "ipython3",
   "version": "3.9.1"
  }
 },
 "nbformat": 4,
 "nbformat_minor": 4
}
