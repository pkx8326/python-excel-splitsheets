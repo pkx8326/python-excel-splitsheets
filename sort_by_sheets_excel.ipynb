{
 "cells": [
  {
   "cell_type": "code",
   "execution_count": null,
   "metadata": {},
   "outputs": [],
   "source": [
    "def sort_by_sheet_excel(inputFileName, byColumn, outputFileName):\n",
    "    import pandas as pd\n",
    "    \n",
    "    readFileName = inputFileName\n",
    "    df = pd.read_excel(readFileName)\n",
    "    \n",
    "    #Eliminate unwatned characters:\n",
    "    for i in df.index:\n",
    "        if \":\" or \"\\\\\" or \"?\" or \"*\" or \"[\" or \"]\" in df[byColumn].iloc[i]:\n",
    "            df[byColumn].iloc[i] = df[byColumn].iloc[i].replace(\":\", \"_\").replace(\"\\\\\", \"_\").replace(\"/\", \"_\").replace(\"?\", \"_\").replace(\"*\", \"_\").replace(\"[\", \"_\").replace(\"]\", \"_\")\n",
    "            \n",
    "    \n",
    "    \n",
    "    #Eliminate records that has more than 31 characters:\n",
    "    for i in df.index:\n",
    "        if len(df[byColumn].iloc[i]) > 31:\n",
    "            df[byColumn].iloc[i] = df[byColumn].iloc[i][:30]\n",
    "            \n",
    "    \n",
    "    #Eliminate same recordd names but with different cases:\n",
    "    for i in df.index:\n",
    "        df[byColumn].iloc[i] = df[byColumn].iloc[i].upper()\n",
    "\n",
    "        \n",
    "    #write to excel file:\n",
    "    writer = pd.ExcelWriter(outputFileName)\n",
    "    \n",
    "    for i in df[byColumn].unique():\n",
    "        df[df[byColumn].str.contains(i)].to_excel(writer, sheet_name = i, index = False)\n",
    "\n",
    "    writer.save()\n",
    "    \n",
    "    newFile = pd.ExcelFile(outputFileName)\n",
    "    print(\"An excel file named {} is created with {} unique sheets.\".format(outputFileName, len(newFile.sheet_names)))"
   ]
  }
 ],
 "metadata": {
  "kernelspec": {
   "display_name": "Python 3",
   "language": "python",
   "name": "python3"
  },
  "language_info": {
   "codemirror_mode": {
    "name": "ipython",
    "version": 3
   },
   "file_extension": ".py",
   "mimetype": "text/x-python",
   "name": "python",
   "nbconvert_exporter": "python",
   "pygments_lexer": "ipython3",
   "version": "3.9.1"
  }
 },
 "nbformat": 4,
 "nbformat_minor": 4
}
